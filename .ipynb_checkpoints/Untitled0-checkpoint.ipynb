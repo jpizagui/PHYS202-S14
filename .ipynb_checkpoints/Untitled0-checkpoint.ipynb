{
 "metadata": {
  "name": "",
  "signature": "sha256:e2330c0869d6d444d15d5f67f60ad2efc23d7158e2aa249eed396ab2145768e0"
 },
 "nbformat": 3,
 "nbformat_minor": 0,
 "worksheets": []
}