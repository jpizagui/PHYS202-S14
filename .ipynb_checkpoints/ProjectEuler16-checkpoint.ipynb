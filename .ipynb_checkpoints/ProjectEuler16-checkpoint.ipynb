{
 "metadata": {
  "name": "",
  "signature": "sha256:3d62f09aaeee4c78a289e920a57f37be8ecfab417770820bdc8efad49ed27d9b"
 },
 "nbformat": 3,
 "nbformat_minor": 0,
 "worksheets": [
  {
   "cells": [
    {
     "cell_type": "heading",
     "level": 1,
     "metadata": {},
     "source": [
      "Project Euler 16"
     ]
    },
    {
     "cell_type": "markdown",
     "metadata": {},
     "source": [
      "215 = 32768 and the sum of its digits is 3 + 2 + 7 + 6 + 8 = 26.\n",
      "\n",
      "What is the sum of the digits of the number 21000?"
     ]
    },
    {
     "cell_type": "code",
     "collapsed": false,
     "input": [
      "def sumnum(num):\n",
      "    total = 0\n",
      "    while(num >0):\n",
      "        total += num%10\n",
      "        num = num/10\n",
      "    return total\n",
      "    \n",
      "    "
     ],
     "language": "python",
     "metadata": {},
     "outputs": [],
     "prompt_number": 21
    },
    {
     "cell_type": "code",
     "collapsed": false,
     "input": [
      "print sumnum(2**15)\n",
      "print sumnum(2**1000)"
     ],
     "language": "python",
     "metadata": {},
     "outputs": [
      {
       "output_type": "stream",
       "stream": "stdout",
       "text": [
        "26\n",
        "1366\n"
       ]
      }
     ],
     "prompt_number": 22
    },
    {
     "cell_type": "code",
     "collapsed": false,
     "input": [],
     "language": "python",
     "metadata": {},
     "outputs": [],
     "prompt_number": 15
    },
    {
     "cell_type": "code",
     "collapsed": false,
     "input": [],
     "language": "python",
     "metadata": {},
     "outputs": []
    }
   ],
   "metadata": {}
  }
 ]
}