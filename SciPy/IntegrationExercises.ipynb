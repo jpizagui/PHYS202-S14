{
 "metadata": {
  "name": "",
  "signature": "sha256:fbd74ec9313fff647856f1c0d2282870522eaedcbe3eb1e42fab464a785e2ffe"
 },
 "nbformat": 3,
 "nbformat_minor": 0,
 "worksheets": [
  {
   "cells": [
    {
     "cell_type": "heading",
     "level": 1,
     "metadata": {},
     "source": [
      "Integration Exercises"
     ]
    },
    {
     "cell_type": "code",
     "collapsed": false,
     "input": [
      "%pylab inline\n",
      "import numpy as np\n",
      "import matplotlib.pyplot as plt"
     ],
     "language": "python",
     "metadata": {},
     "outputs": [
      {
       "output_type": "stream",
       "stream": "stdout",
       "text": [
        "Populating the interactive namespace from numpy and matplotlib\n"
       ]
      }
     ],
     "prompt_number": 4
    },
    {
     "cell_type": "markdown",
     "metadata": {},
     "source": [
      "\n",
      "Question 1\u00b6\n",
      "\n",
      "(a) Write two functions trapz(func,x) and simps(func,x) to compute the integral of the function func over the variable x using the trapezoidal rule and Simpson's rule to a file called Integrators.py. Do not use the scipy.integrate built-in functions. Include docstrings with each function that describe what they do. Then import the module and use the functions to answer the following questions.\n"
     ]
    },
    {
     "cell_type": "code",
     "collapsed": false,
     "input": [
      "%%file func.py\n",
      "import numpy as np\n",
      "def trapz(func,a,b,N):\n",
      "    '''\n",
      "    Integrates using the Trapezoid Approximation\n",
      "    '''\n",
      "    h = (b-a)/N\n",
      "\n",
      "    k = np.arange(1,N)\n",
      "    I = h*(0.5*func(a) + 0.5*func(b) + func(a+k*h).sum())\n",
      "    return I\n",
      "\n",
      "def simps(func,a,b,N):\n",
      "    '''\n",
      "    Integrates Using Simpson's Parabolic Approximation\n",
      "    '''\n",
      "    h = (b-a)/N\n",
      "\n",
      "    k1 = np.arange(1,N/2+1)\n",
      "    k2 = np.arange(1,N/2)\n",
      "    I = (1./3.)*h*(func(a) + func(b) + 4.*func(a+(2*k1-1)*h).sum() + 2.*func(a+2*k2*h).sum())\n",
      "    return I\n",
      "    \n"
     ],
     "language": "python",
     "metadata": {},
     "outputs": [
      {
       "output_type": "stream",
       "stream": "stdout",
       "text": [
        "Overwriting func.py\n"
       ]
      }
     ],
     "prompt_number": 5
    },
    {
     "cell_type": "markdown",
     "metadata": {},
     "source": [
      "(b) Use your trapz and simps functions from part (a) to calculate the integral of x4\u22122x+1 from x = 0 to x = 2 with N = 10, N = 100, and N = 1000. Then compare your result to the known correct value of 4.4. What is the percent error in each case?"
     ]
    },
    {
     "cell_type": "code",
     "collapsed": false,
     "input": [
      "import func as myint\n",
      "for N in [10,100,1000]:\n",
      "    print \"N = \", N\n",
      "    I = myint.trapz(lambda x: x**4 - 2*x + 1, 0.,2.,N)\n",
      "    print \"Trapezoidal Rule Integral =\",I\n",
      "    print \"Percent Error (Trapezoid Approximation) =\", ((I-4.4)/4.4)*100, \"%\"\n",
      "    I2 = myint.simps(lambda x: x**4 - 2*x + 1, 0.,2.,N)\n",
      "    print \"Simpson's rule Integral=\",I2\n",
      "    print \"Percent Error (Simpson's Approximation) =\", ((I2-4.4)/4.4)*100, \"%\"\n",
      "\n",
      "    print \"\\n\""
     ],
     "language": "python",
     "metadata": {},
     "outputs": [
      {
       "output_type": "stream",
       "stream": "stdout",
       "text": [
        "N =  10\n",
        "Trapezoidal Rule Integral = 4.50656\n",
        "Percent Error (Trapezoid Approximation) = 2.42181818182 %\n",
        "Simpson's rule Integral= 4.40042666667\n",
        "Percent Error (Simpson's Approximation) = 0.00969696969697 %\n",
        "\n",
        "\n",
        "N =  100\n",
        "Trapezoidal Rule Integral = 4.401066656\n",
        "Percent Error (Trapezoid Approximation) = 0.0242421818182 %\n",
        "Simpson's rule Integral= 4.40000004267\n",
        "Percent Error (Simpson's Approximation) = 9.69696969187e-07 %\n",
        "\n",
        "\n",
        "N =  1000\n",
        "Trapezoidal Rule Integral = 4.40001066667\n",
        "Percent Error (Trapezoid Approximation) = 0.000242424218175 %\n",
        "Simpson's rule Integral= 4.4\n",
        "Percent Error (Simpson's Approximation) = 9.69729347327e-11 %\n",
        "\n",
        "\n"
       ]
      }
     ],
     "prompt_number": 6
    },
    {
     "cell_type": "markdown",
     "metadata": {},
     "source": [
      "\n",
      "Question 2\n",
      "\n",
      "Consider the integral\n",
      "\n",
      "E(x)=\u222bx0e\u2212t2dt\n",
      "\n",
      "This is the error function, commonly seen in probability and statistics. There is no known way to perform this particular integral analytically, although the integrand can be expanded in a Taylor series and terms computed to arbitrary order. For most applications, numerical approaches are the only way forward.\n",
      "\n",
      "(a) Use scipy.integrate.cumtrapz to calculate E(x) for values of x from 0 to 3 in steps of 0.1. Print the result.\n"
     ]
    },
    {
     "cell_type": "code",
     "collapsed": false,
     "input": [
      "import scipy.integrate as integrate\n",
      "x = np.arange(0,3.1,.1)\n",
      "y = e**((-1)*x**2)\n",
      "I = integrate.cumtrapz(y,x,initial=0)\n",
      "print I\n",
      "print x\n",
      "print x.size,y.size,I.size"
     ],
     "language": "python",
     "metadata": {},
     "outputs": [
      {
       "output_type": "stream",
       "stream": "stdout",
       "text": [
        "[ 0.          0.09950249  0.19704446  0.29078049  0.37908424  0.46063146\n",
        "  0.53445532  0.59997046  0.6569664   0.70557392  0.7462108   0.77951463\n",
        "  0.80627088  0.82734325  0.84361215  0.85592503  0.86506023  0.87170427\n",
        "  0.87644128  0.87975207  0.88202044  0.88354398  0.88454709  0.88519453\n",
        "  0.88560418  0.88585826  0.88601274  0.88610482  0.88615862  0.88618943\n",
        "  0.88620673]\n",
        "[ 0.   0.1  0.2  0.3  0.4  0.5  0.6  0.7  0.8  0.9  1.   1.1  1.2  1.3  1.4\n",
        "  1.5  1.6  1.7  1.8  1.9  2.   2.1  2.2  2.3  2.4  2.5  2.6  2.7  2.8  2.9\n",
        "  3. ]\n",
        "31 31 31\n"
       ]
      }
     ],
     "prompt_number": 7
    },
    {
     "cell_type": "markdown",
     "metadata": {},
     "source": [
      "\n",
      "\n",
      "(b) Plot the integrand as a function of t and E(x) as a function of x (both ranging from 0 to 3) on the same graph.\n"
     ]
    },
    {
     "cell_type": "code",
     "collapsed": false,
     "input": [
      "plt.plot(x,y, label=\"Integrand of Error Function\")\n",
      "plt.plot(x,I, label=\"Error Function\")\n",
      "plt.legend(loc=\"best\")\n",
      "plt.xlabel(\"x\",fontsize=20)\n",
      "plt.ylabel(\"Y/I(x)\",fontsize=20)"
     ],
     "language": "python",
     "metadata": {},
     "outputs": [
      {
       "metadata": {},
       "output_type": "pyout",
       "prompt_number": 8,
       "text": [
        "<matplotlib.text.Text at 0x3cffcd0>"
       ]
      },
      {
       "metadata": {},
       "output_type": "display_data",
       "png": "[encoded data removed]",
       "text": [
        "<matplotlib.figure.Figure at 0x3ce2dd0>"
       ]
      }
     ],
     "prompt_number": 8
    },
    {
     "cell_type": "markdown",
     "metadata": {},
     "source": [
      "\n",
      "Question 3\u00b6\n",
      "\n",
      "Consider a particle in a one-dimensional box of width L. The probability of finding the particle between a and b is given by\n",
      "\n",
      "P(a,b)=\u222bba|\u03c8(x)|2dx\n",
      "\n",
      "where\n",
      "\n",
      "\u03c8(x)=2L\u203e\u203e\u221asin(n\u03c0xL)\n",
      "\n",
      "is the wavefunction.\n",
      "\n",
      "(a) What is the probability of finding the particle between L/3 and L/2 for the ground state (n = 1) and for the first excited state (n = 2)? Let L = 1. Perform the integral using both scipy.integrate.trapz and scipy.integrate.quad with an accuracy of 6 sig figs. How many slices did you need to use for scipy.integrate.trapz?\n"
     ]
    },
    {
     "cell_type": "code",
     "collapsed": false,
     "input": [
      "import numpy as np\n",
      "L = 1\n",
      "x = np.linspace(L/3.,L/2.,num = 10,endpoint = True)\n",
      "\n",
      "for n in [1,2]:\n",
      "    if n ==1:\n",
      "        real = .304499\n",
      "        \n",
      "    else:\n",
      "        real = .0977506\n",
      "\n",
      "\n",
      "    psisq = (sqrt(2./L)*np.sin((n*np.pi*x)/L))**2\n",
      "    I1 = integrate.trapz(psisq,x)\n",
      "    print \"Integral using Trapezoid Approximation =\", I1 , \"n =\", n\n",
      "    print \"Error = \", abs(I1-real)\n",
      "\n",
      "    func = lambda x: (sqrt(2./L)*np.sin((n*np.pi*x)/L))**2\n",
      "    I2 = integrate.quad(func,L/3.,L/2.)\n",
      "    print \"Integral using Quad Approximation =\", I2 , \"n =\", n\n",
      "    print \"Error = \", abs(I2[0]-real)\n",
      "    print \"\\n\"\n",
      "\n",
      "    #The minimum slices for the quad approximation to be within the error specified is about 75 slices.\n",
      "    #The trapezoid slices are always accurate"
     ],
     "language": "python",
     "metadata": {},
     "outputs": [
      {
       "output_type": "stream",
       "stream": "stdout",
       "text": [
        "Integral using Trapezoid Approximation = 0.304343351362 n = 1\n",
        "Error =  0.00015564863825\n",
        "Integral using Quad Approximation = (0.3044988905221147, 3.380616792304666e-15) n = 1\n",
        "Error =  1.09477885313e-07\n",
        "\n",
        "\n",
        "Integral using Trapezoid Approximation = 0.0980618439295 n = 2\n",
        "Error =  0.000311243929453\n",
        "Integral using Quad Approximation = (0.09775055473894276, 1.0852491654105595e-15) n = 2\n",
        "Error =  4.52610572493e-08\n",
        "\n",
        "\n"
       ]
      }
     ],
     "prompt_number": 57
    },
    {
     "cell_type": "code",
     "collapsed": false,
     "input": [],
     "language": "python",
     "metadata": {},
     "outputs": []
    },
    {
     "cell_type": "markdown",
     "metadata": {},
     "source": [
      "(b) Make a plot of |\u03c8(x)|2 vs. x for the first two excited states with L=1."
     ]
    },
    {
     "cell_type": "code",
     "collapsed": false,
     "input": [
      "z = np.linspace(0,L,100, endpoint = True)\n",
      "for n in [1,2]:\n",
      "    if n==1:\n",
      "        desc = \"N = 1\"\n",
      "    else:\n",
      "        desc= \"N = 2\"\n",
      "    psisq2 = (sqrt(2/L)*np.sin((n*np.pi*z)/L))**2\n",
      "    plt.plot(z,psisq2, label = desc)\n",
      "    \n",
      "plt.legend(loc=\"best\")\n",
      "plt.xlabel(\"X\",fontsize=20)\n",
      "plt.ylabel(\"PSI(X)\",fontsize=20)"
     ],
     "language": "python",
     "metadata": {},
     "outputs": [
      {
       "metadata": {},
       "output_type": "pyout",
       "prompt_number": 59,
       "text": [
        "<matplotlib.text.Text at 0x3dfa890>"
       ]
      },
      {
       "metadata": {},
       "output_type": "display_data",
       "png": "[encoded data removed]",
       "text": [
        "<matplotlib.figure.Figure at 0x41676d0>"
       ]
      }
     ],
     "prompt_number": 59
    },
    {
     "cell_type": "markdown",
     "metadata": {},
     "source": [
      "Question 4\n",
      "Integrals of mass density lead to three interesting quantities:\n",
      "M=\u222b\u03c1dVr\u20d7 cm=(xcm,ycm,zcm)=1M\u222br\u20d7 \u03c1dVIcm=\u222b(r\u2212rcm)2\u03c1dV\n",
      "where M is the total mass (a scalar), r\u20d7 cm is the center of mass position (a vector of 3 components), Icm are the moments of inertia about the center of mass (diagonals of a 3x3 matrix), and the mass density, \u03c1, may be a function of the spatial variables.\n",
      "Consider a rectangular box: length (in x) = 0.2 m, width (in y) = 0.2 m, and height (in z) = 1.0 m centered on the origin, (0,0,0) and with a mass density, \u03c1(x,y,z) = (100 kg/m4)(y + 0.1) + (100 kg/m5)z2 for x, y, and z in meters."
     ]
    },
    {
     "cell_type": "code",
     "collapsed": false,
     "input": [
      "from scipy.integrate import tplquad\n",
      "\n",
      "#AGAIN: the order of arguments matters - inner to outer\n",
      "integrand = lambda z,y,x: (100)*(y + 0.1) + (100)*z**2\n",
      "\n",
      "xmin = -.1\n",
      "xmax = .1\n",
      "\n",
      "ymin = lambda x: -.1\n",
      "ymax = lambda x: .1\n",
      "\n",
      "#Note the order of these arguments:\n",
      "zmin = lambda x,y: -.5\n",
      "zmax = lambda x,y: .5\n",
      "\n",
      "#Here the order of limits is outer to inner\n",
      "mass, err = tplquad(integrand, xmin, xmax, ymin, ymax, zmin, zmax)\n",
      "print \"The Mass is = \",mass\n"
     ],
     "language": "python",
     "metadata": {},
     "outputs": [
      {
       "output_type": "stream",
       "stream": "stdout",
       "text": [
        "The Mass is =  0.733333333333\n"
       ]
      }
     ],
     "prompt_number": 69
    },
    {
     "cell_type": "code",
     "collapsed": false,
     "input": [
      "#AGAIN: the order of arguments matters - inner to outer\n",
      "integrand = lambda z,y,x: (x)*((100)*(y + 0.1) + (100)*z**2)\n",
      "\n",
      "xmin = -.1\n",
      "xmax = .1\n",
      "\n",
      "ymin = lambda x: -.1\n",
      "ymax = lambda x: .1\n",
      "\n",
      "    #Note the order of these arguments:\n",
      "zmin = lambda x,y: -.5\n",
      "zmax = lambda x,y: .5\n",
      "\n",
      "    #Here the order of limits is outer to inner\n",
      "CoM, err = tplquad(integrand, xmin, xmax, ymin, ymax, zmin, zmax)\n",
      "CoM = CoM/float(mass)\n",
      "print \"The X Center of Mass is = \",CoM\n",
      "\n",
      "#AGAIN: the order of arguments matters - inner to outer\n",
      "integrand = lambda z,y,x: (y)*((100)*(y + 0.1) + (100)*z**2)\n",
      "\n",
      "xmin = -.1\n",
      "xmax = .1\n",
      "\n",
      "ymin = lambda x: -.1\n",
      "ymax = lambda x: .1\n",
      "\n",
      "    #Note the order of these arguments:\n",
      "zmin = lambda x,y: -.5\n",
      "zmax = lambda x,y: .5\n",
      "\n",
      "    #Here the order of limits is outer to inner\n",
      "CoM, err = tplquad(integrand, xmin, xmax, ymin, ymax, zmin, zmax)\n",
      "yCoM = CoM/float(mass)\n",
      "print \"The Y Center of Mass is = \",yCoM\n",
      "\n",
      "\n",
      "#AGAIN: the order of arguments matters - inner to outer\n",
      "integrand = lambda z,y,x: (z)*((100)*(y + 0.1) + (100)*z**2)\n",
      "\n",
      "xmin = -.1\n",
      "xmax = .1\n",
      "\n",
      "ymin = lambda x: -.1\n",
      "ymax = lambda x: .1\n",
      "\n",
      "    #Note the order of these arguments:\n",
      "zmin = lambda x,y: -.5\n",
      "zmax = lambda x,y: .5\n",
      "\n",
      "    #Here the order of limits is outer to inner\n",
      "CoM, err = tplquad(integrand, xmin, xmax, ymin, ymax, zmin, zmax)\n",
      "CoM = CoM/float(mass)\n",
      "print \"The Z Center of Mass is = \",CoM\n",
      "\n",
      "\n"
     ],
     "language": "python",
     "metadata": {},
     "outputs": [
      {
       "output_type": "stream",
       "stream": "stdout",
       "text": [
        "The X Center of Mass is =  0.0\n",
        "The Y Center of Mass is =  0.0181818181818\n",
        "The Z Center of Mass is =  0.0\n"
       ]
      }
     ],
     "prompt_number": 91
    },
    {
     "cell_type": "code",
     "collapsed": false,
     "input": [
      "#AGAIN: the order of arguments matters - inner to outer\n",
      "integrand = lambda z,y,x: ((y-yCoM)**2+(z)**2)*((100)*(y + 0.1) + (100)*z**2)\n",
      "\n",
      "xmin = -.1\n",
      "xmax = .1\n",
      "\n",
      "ymin = lambda x: -.1\n",
      "ymax = lambda x: .1\n",
      "\n",
      "#Note the order of these arguments:\n",
      "zmin = lambda x,y: -.5\n",
      "zmax = lambda x,y: .5\n",
      "\n",
      "#Here the order of limits is outer to inner\n",
      "Inertia, err = tplquad(integrand, xmin, xmax, ymin, ymax, zmin, zmax)\n",
      "print \"The X Moment of Inertia is  is = \",Inertia\n",
      "\n",
      "\n",
      "\n",
      "#AGAIN: the order of arguments matters - inner to outer\n",
      "integrand = lambda z,y,x: ((x)**2+(z)**2)*((100)*(y + 0.1) + (100)*z**2)\n",
      "\n",
      "xmin = -.1\n",
      "xmax = .1\n",
      "\n",
      "ymin = lambda x: -.1\n",
      "ymax = lambda x: .1\n",
      "\n",
      "#Note the order of these arguments:\n",
      "zmin = lambda x,y: -.5\n",
      "zmax = lambda x,y: .5\n",
      "\n",
      "#Here the order of limits is outer to inner\n",
      "mass, err = tplquad(integrand, xmin, xmax, ymin, ymax, zmin, zmax)\n",
      "print \"The Y Moment of Inertia is = \",mass\n",
      "\n",
      "\n",
      "#AGAIN: the order of arguments matters - inner to outer\n",
      "integrand = lambda z,y,x: ((x)**2+(y-yCoM)**2)*((100)*(y + 0.1) + (100)*z**2)\n",
      "\n",
      "xmin = -.1\n",
      "xmax = .1\n",
      "\n",
      "ymin = lambda x: -.1\n",
      "ymax = lambda x: .1\n",
      "\n",
      "#Note the order of these arguments:\n",
      "zmin = lambda x,y: -.5\n",
      "zmax = lambda x,y: .5\n",
      "\n",
      "#Here the order of limits is outer to inner\n",
      "mass, err = tplquad(integrand, xmin, xmax, ymin, ymax, zmin, zmax)\n",
      "print \"The Z Moment of Inertia is = \",mass\n"
     ],
     "language": "python",
     "metadata": {},
     "outputs": [
      {
       "output_type": "stream",
       "stream": "stdout",
       "text": [
        "The X Moment of Inertia is  is =  0.0855353535354\n",
        "The Y Moment of Inertia is =  0.0857777777778\n",
        "The Z Moment of Inertia is = "
       ]
      },
      {
       "output_type": "stream",
       "stream": "stdout",
       "text": [
        " 0.00464646464646\n"
       ]
      }
     ],
     "prompt_number": 95
    },
    {
     "cell_type": "code",
     "collapsed": false,
     "input": [],
     "language": "python",
     "metadata": {},
     "outputs": []
    }
   ],
   "metadata": {}
  }
 ]
}