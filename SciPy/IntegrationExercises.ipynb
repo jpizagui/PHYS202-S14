{
 "metadata": {
  "name": "",
  "signature": "sha256:d8e2fc90f129da9c7c08a79cf831551e76999053bbc017d378b44a6da468623c"
 },
 "nbformat": 3,
 "nbformat_minor": 0,
 "worksheets": [
  {
   "cells": [
    {
     "cell_type": "heading",
     "level": 1,
     "metadata": {},
     "source": [
      "Integration Exercises"
     ]
    },
    {
     "cell_type": "code",
     "collapsed": false,
     "input": [
      "%pylab inline\n",
      "import numpy as np\n",
      "import matplotlib.pyplot as plt"
     ],
     "language": "python",
     "metadata": {},
     "outputs": [
      {
       "output_type": "stream",
       "stream": "stdout",
       "text": [
        "Populating the interactive namespace from numpy and matplotlib\n"
       ]
      }
     ],
     "prompt_number": 1
    },
    {
     "cell_type": "markdown",
     "metadata": {},
     "source": [
      "\n",
      "Question 1\u00b6\n",
      "\n",
      "(a) Write two functions trapz(func,x) and simps(func,x) to compute the integral of the function func over the variable x using the trapezoidal rule and Simpson's rule to a file called Integrators.py. Do not use the scipy.integrate built-in functions. Include docstrings with each function that describe what they do. Then import the module and use the functions to answer the following questions.\n"
     ]
    },
    {
     "cell_type": "code",
     "collapsed": false,
     "input": [
      "%%file func.py\n",
      "import numpy as np\n",
      "def trapz(func,a,b,N):\n",
      "    '''\n",
      "    Integrates using the Trapezoid Approximation\n",
      "    '''\n",
      "    h = (b-a)/N\n",
      "\n",
      "    k = np.arange(1,N)\n",
      "    I = h*(0.5*func(a) + 0.5*func(b) + func(a+k*h).sum())\n",
      "    return I\n",
      "\n",
      "def simps(func,a,b,N):\n",
      "    '''\n",
      "    Integrates Using Simpson's Parabolic Approximation\n",
      "    '''\n",
      "    h = (b-a)/N\n",
      "\n",
      "    k1 = np.arange(1,N/2+1)\n",
      "    k2 = np.arange(1,N/2)\n",
      "    I = (1./3.)*h*(func(a) + func(b) + 4.*func(a+(2*k1-1)*h).sum() + 2.*func(a+2*k2*h).sum())\n",
      "    return I\n",
      "    \n"
     ],
     "language": "python",
     "metadata": {},
     "outputs": [
      {
       "output_type": "stream",
       "stream": "stdout",
       "text": [
        "Overwriting func.py\n"
       ]
      }
     ],
     "prompt_number": 2
    },
    {
     "cell_type": "markdown",
     "metadata": {},
     "source": [
      "(b) Use your trapz and simps functions from part (a) to calculate the integral of x4\u22122x+1 from x = 0 to x = 2 with N = 10, N = 100, and N = 1000. Then compare your result to the known correct value of 4.4. What is the percent error in each case?"
     ]
    },
    {
     "cell_type": "code",
     "collapsed": false,
     "input": [
      "import func as myint\n",
      "for N in [10,100,1000]:\n",
      "    print \"N = \", N\n",
      "    I = myint.trapz(lambda x: x**4 - 2*x + 1, 0.,2.,N)\n",
      "    print \"Trapezoidal Rule Integral =\",I\n",
      "    print \"Percent Error (Trapezoid Approximation) =\", ((I-4.4)/4.4)*100, \"%\"\n",
      "    I2 = myint.simps(lambda x: x**4 - 2*x + 1, 0.,2.,N)\n",
      "    print \"Simpson's rule Integral=\",I2\n",
      "    print \"Percent Error (Simpson's Approximation) =\", ((I2-4.4)/4.4)*100, \"%\"\n",
      "\n",
      "    print \"\\n\""
     ],
     "language": "python",
     "metadata": {},
     "outputs": [
      {
       "output_type": "stream",
       "stream": "stdout",
       "text": [
        "N =  10\n",
        "Trapezoidal Rule Integral = 4.50656\n",
        "Percent Error (Trapezoid Approximation) = 2.42181818182 %\n",
        "Simpson's rule Integral= 4.40042666667\n",
        "Percent Error (Simpson's Approximation) = 0.00969696969697 %\n",
        "\n",
        "\n",
        "N =  100\n",
        "Trapezoidal Rule Integral = 4.401066656\n",
        "Percent Error (Trapezoid Approximation) = 0.0242421818182 %\n",
        "Simpson's rule Integral= 4.40000004267\n",
        "Percent Error (Simpson's Approximation) = 9.69696969187e-07 %\n",
        "\n",
        "\n",
        "N =  1000\n",
        "Trapezoidal Rule Integral = 4.40001066667\n",
        "Percent Error (Trapezoid Approximation) = 0.000242424218175 %\n",
        "Simpson's rule Integral= 4.4\n",
        "Percent Error (Simpson's Approximation) = 9.69729347327e-11 %\n",
        "\n",
        "\n"
       ]
      }
     ],
     "prompt_number": 14
    },
    {
     "cell_type": "markdown",
     "metadata": {},
     "source": [
      "\n",
      "Question 2\n",
      "\n",
      "Consider the integral\n",
      "\n",
      "E(x)=\u222bx0e\u2212t2dt\n",
      "\n",
      "This is the error function, commonly seen in probability and statistics. There is no known way to perform this particular integral analytically, although the integrand can be expanded in a Taylor series and terms computed to arbitrary order. For most applications, numerical approaches are the only way forward.\n",
      "\n",
      "(a) Use scipy.integrate.cumtrapz to calculate E(x) for values of x from 0 to 3 in steps of 0.1. Print the result.\n"
     ]
    },
    {
     "cell_type": "code",
     "collapsed": false,
     "input": [
      "import scipy.integrate as integrate\n",
      "x = np.arange(0,3.1,.1)\n",
      "y = e**((-1)*x**2)\n",
      "I = integrate.cumtrapz(y,x,initial=0)\n",
      "print I\n",
      "print x\n",
      "print x.size,y.size,I.size"
     ],
     "language": "python",
     "metadata": {},
     "outputs": [
      {
       "output_type": "stream",
       "stream": "stdout",
       "text": [
        "[ 0.          0.09950249  0.19704446  0.29078049  0.37908424  0.46063146\n",
        "  0.53445532  0.59997046  0.6569664   0.70557392  0.7462108   0.77951463\n",
        "  0.80627088  0.82734325  0.84361215  0.85592503  0.86506023  0.87170427\n",
        "  0.87644128  0.87975207  0.88202044  0.88354398  0.88454709  0.88519453\n",
        "  0.88560418  0.88585826  0.88601274  0.88610482  0.88615862  0.88618943\n",
        "  0.88620673]\n",
        "[ 0.   0.1  0.2  0.3  0.4  0.5  0.6  0.7  0.8  0.9  1.   1.1  1.2  1.3  1.4\n",
        "  1.5  1.6  1.7  1.8  1.9  2.   2.1  2.2  2.3  2.4  2.5  2.6  2.7  2.8  2.9\n",
        "  3. ]\n",
        "31 31 31\n"
       ]
      }
     ],
     "prompt_number": 4
    },
    {
     "cell_type": "markdown",
     "metadata": {},
     "source": [
      "\n",
      "\n",
      "(b) Plot the integrand as a function of t and E(x) as a function of x (both ranging from 0 to 3) on the same graph.\n"
     ]
    },
    {
     "cell_type": "code",
     "collapsed": false,
     "input": [
      "plt.plot(x,y, label=\"Integrand of Error Function\")\n",
      "plt.plot(x,I, label=\"Error Function\")\n",
      "plt.legend(loc=\"best\")\n",
      "plt.xlabel(\"x\",fontsize=20)\n",
      "plt.ylabel(\"Y/I(x)\",fontsize=20)"
     ],
     "language": "python",
     "metadata": {},
     "outputs": [
      {
       "metadata": {},
       "output_type": "pyout",
       "prompt_number": 5,
       "text": [
        "<matplotlib.text.Text at 0x1064e0110>"
       ]
      },
      {
       "metadata": {},
       "output_type": "display_data",
       "png": "[encoded data removed]",
       "text": [
        "<matplotlib.figure.Figure at 0x1064cae50>"
       ]
      }
     ],
     "prompt_number": 5
    },
    {
     "cell_type": "markdown",
     "metadata": {},
     "source": [
      "\n",
      "Question 3\u00b6\n",
      "\n",
      "Consider a particle in a one-dimensional box of width L. The probability of finding the particle between a and b is given by\n",
      "\n",
      "P(a,b)=\u222bba|\u03c8(x)|2dx\n",
      "\n",
      "where\n",
      "\n",
      "\u03c8(x)=2L\u203e\u203e\u221asin(n\u03c0xL)\n",
      "\n",
      "is the wavefunction.\n",
      "\n",
      "(a) What is the probability of finding the particle between L/3 and L/2 for the ground state (n = 1) and for the first excited state (n = 2)? Let L = 1. Perform the integral using both scipy.integrate.trapz and scipy.integrate.quad with an accuracy of 6 sig figs. How many slices did you need to use for scipy.integrate.trapz?\n"
     ]
    },
    {
     "cell_type": "code",
     "collapsed": false,
     "input": [
      "import numpy as np\n",
      "L = 1\n",
      "x = np.linspace(L/3.,L/2.,num = 1000,endpoint = True)\n",
      "for n in [1,2]:\n",
      "    psisq = (sqrt(2/L)*np.sin((n*np.pi*x)/L))**2\n",
      "    I = integrate.trapz(psisq,x)\n",
      "    print \"Integral using Trapezoid Approximation =\", I , \"n =\", n\n",
      "    func = lambda x: (sqrt(2/L)*np.sin((n*np.pi*x)/L))**2\n",
      "    I = integrate.quad(func,L/3.,L/2.)\n",
      "    print \"Integral using Quad Approximation =\", I , \"n =\", n\n"
     ],
     "language": "python",
     "metadata": {},
     "outputs": [
      {
       "output_type": "stream",
       "stream": "stdout",
       "text": [
        "Integral using Trapezoid Approximation = 0.304498877901 n = 1\n",
        "Integral using Quad Approximation = (0.3044988905221147, 3.380616792304666e-15) n = 1\n",
        "Integral using Trapezoid Approximation = 0.0977505799811 n = 2\n",
        "Integral using Quad Approximation = (0.09775055473894276, 1.0852491654105595e-15) n = 2\n"
       ]
      }
     ],
     "prompt_number": 62
    },
    {
     "cell_type": "markdown",
     "metadata": {},
     "source": [
      "(b) Make a plot of |\u03c8(x)|2 vs. x for the first two excited states with L=1."
     ]
    },
    {
     "cell_type": "code",
     "collapsed": false,
     "input": [
      "z = np.linspace(0,L,100, endpoint = True)\n",
      "for n in [1,2]:\n",
      "    if n==1:\n",
      "        desc = \"N = 1\"\n",
      "    else:\n",
      "        desc= \"N = 2\"\n",
      "    psisq2 = (sqrt(2/L)*np.sin((n*np.pi*z)/L))**2\n",
      "    plt.plot(z,psisq2, label = desc)\n",
      "    \n",
      "plt.legend(loc=\"best\")"
     ],
     "language": "python",
     "metadata": {},
     "outputs": [
      {
       "metadata": {},
       "output_type": "pyout",
       "prompt_number": 63,
       "text": [
        "<matplotlib.legend.Legend at 0x1076492d0>"
       ]
      },
      {
       "metadata": {},
       "output_type": "display_data",
       "png": "[encoded data removed]",
       "text": [
        "<matplotlib.figure.Figure at 0x107649f50>"
       ]
      }
     ],
     "prompt_number": 63
    },
    {
     "cell_type": "code",
     "collapsed": false,
     "input": [],
     "language": "python",
     "metadata": {},
     "outputs": []
    }
   ],
   "metadata": {}
  }
 ]
}