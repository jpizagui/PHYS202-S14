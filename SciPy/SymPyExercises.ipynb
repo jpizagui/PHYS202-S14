{
 "metadata": {
  "name": "",
  "signature": "sha256:9f2a4709e1093e74044be59b9b0aaa8433342eac4c002e7fe8405c39a10e8299"
 },
 "nbformat": 3,
 "nbformat_minor": 0,
 "worksheets": [
  {
   "cells": [
    {
     "cell_type": "heading",
     "level": 1,
     "metadata": {},
     "source": [
      "SymPy Exercises"
     ]
    },
    {
     "cell_type": "markdown",
     "metadata": {},
     "source": [
      "\n",
      "Question 1\n",
      "\n",
      "This question looks at a class of integrals that appears often in physics, the so called Gaussian integrals of the form:\n",
      "\n",
      "In(a)=\u222b\u221e\u2212\u221ezne\u2212az2dz\n",
      "\n",
      "(a) Define SymPy symbols for the following variables:\n",
      "\n",
      "    z that is real\n",
      "    a that is real and positive\n",
      "    n that is a positive integer\n",
      "\n"
     ]
    },
    {
     "cell_type": "code",
     "collapsed": false,
     "input": [
      "#Driver: Joseph Izaguirre\n",
      "#Navigator: Ed Izaguirre\n",
      "from IPython.html.widgets import interact\n",
      "from IPython.display import display\n",
      "\n",
      "%matplotlib inline\n",
      "import numpy as np\n",
      "import matplotlib.pyplot as plt\n",
      "\n",
      "from sympy import *\n",
      "init_printing(use_latex='mathjax')\n",
      "\n",
      "z = Symbol('z', real=True)\n",
      "a = Symbol('a', real=True, positive=True)\n",
      "n = Symbol('n', positive=True)\n",
      "\n",
      "\n"
     ],
     "language": "python",
     "metadata": {},
     "outputs": [],
     "prompt_number": 2
    },
    {
     "cell_type": "markdown",
     "metadata": {},
     "source": [
      "(b). Compute the integral I0(a) symbolically by passing the full integrand to the integrate function. Save the result as variable I0 and display it using IPython.display.display."
     ]
    },
    {
     "cell_type": "code",
     "collapsed": false,
     "input": [
      "I0 = integrate(z**0 * exp(-a*z**2), (z, -oo, oo))\n",
      "display(I0)\n",
      "\n"
     ],
     "language": "python",
     "metadata": {},
     "outputs": [
      {
       "latex": [
        "$$\\frac{\\sqrt{\\pi}}{\\sqrt{a}}$$"
       ],
       "metadata": {},
       "output_type": "display_data",
       "text": [
        "  ___\n",
        "\u2572\u2571 \u03c0 \n",
        "\u2500\u2500\u2500\u2500\u2500\n",
        "  ___\n",
        "\u2572\u2571 a "
       ]
      }
     ],
     "prompt_number": 3
    },
    {
     "cell_type": "markdown",
     "metadata": {},
     "source": [
      "(c) Verify that Im(a)=0 if m is odd by computing the integral symbolically for m=[1,3,5,7,9]. Use a loop or other control structure to interate through values of m. Why should you not use the variable n for this part?"
     ]
    },
    {
     "cell_type": "code",
     "collapsed": false,
     "input": [
      "m = Symbol('m', positive=True, odd=True)\n",
      "m = [1,3,5,7,9]\n",
      "\n",
      "\n",
      "for i in m:\n",
      "    I = integrate(z**i * exp(-a*z**2), (z, -oo, oo))\n",
      "    display(I)\n",
      "\n",
      "# We should use the variable m because we want only odd numbers\n"
     ],
     "language": "python",
     "metadata": {},
     "outputs": [
      {
       "latex": [
        "$$0$$"
       ],
       "metadata": {},
       "output_type": "display_data",
       "text": [
        "0"
       ]
      },
      {
       "latex": [
        "$$0$$"
       ],
       "metadata": {},
       "output_type": "display_data",
       "text": [
        "0"
       ]
      },
      {
       "latex": [
        "$$0$$"
       ],
       "metadata": {},
       "output_type": "display_data",
       "text": [
        "0"
       ]
      },
      {
       "latex": [
        "$$0$$"
       ],
       "metadata": {},
       "output_type": "display_data",
       "text": [
        "0"
       ]
      },
      {
       "latex": [
        "$$0$$"
       ],
       "metadata": {},
       "output_type": "display_data",
       "text": [
        "0"
       ]
      }
     ],
     "prompt_number": 4
    },
    {
     "cell_type": "markdown",
     "metadata": {},
     "source": [
      "\n",
      "\n",
      "(d) Define a symbolic expression, saved under the variable In, for the unevaluated integral In(a) using SymPy's Integral class. Use symbolic manipulations to verify the following identity:\n",
      "\n",
      "I2(a)=\u2212\u2202I0\u2202a\n",
      "\n",
      "It may be helpful to use Eq(lhs,rhs).doit() to verify mathematical equality.\n"
     ]
    },
    {
     "cell_type": "code",
     "collapsed": false,
     "input": [
      "I0 = integrate(z**0 * exp(-a*z**2), (z, -oo, oo))\n",
      "\n",
      "D = diff(I0, a)\n",
      "\n",
      "display(-D)\n",
      "\n",
      "I2 = integrate(z**2 * exp(-a*z**2), (z, -oo, oo))\n",
      "display (I2)"
     ],
     "language": "python",
     "metadata": {},
     "outputs": [
      {
       "latex": [
        "$$\\frac{\\sqrt{\\pi}}{2 a^{\\frac{3}{2}}}$$"
       ],
       "metadata": {},
       "output_type": "display_data",
       "text": [
        "  ___ \n",
        "\u2572\u2571 \u03c0  \n",
        "\u2500\u2500\u2500\u2500\u2500\u2500\n",
        "   3/2\n",
        "2\u22c5a   "
       ]
      },
      {
       "latex": [
        "$$\\frac{\\sqrt{\\pi}}{2 a^{\\frac{3}{2}}}$$"
       ],
       "metadata": {},
       "output_type": "display_data",
       "text": [
        "  ___ \n",
        "\u2572\u2571 \u03c0  \n",
        "\u2500\u2500\u2500\u2500\u2500\u2500\n",
        "   3/2\n",
        "2\u22c5a   "
       ]
      }
     ],
     "prompt_number": 5
    },
    {
     "cell_type": "markdown",
     "metadata": {},
     "source": [
      "\n",
      "Question 2\n",
      "\n",
      "(a) Define and display the following matrix symbolically, where a is a positive real number:\n",
      "\n",
      "H=\u23a1\u23a3\u2212a+10001a0a2\u23a4\u23a6"
     ]
    },
    {
     "cell_type": "code",
     "collapsed": false,
     "input": [
      "a= Symbol('a')\n",
      "\n",
      "A = Matrix([[-a+1,0,0], [0,1,a],[0,a,2]])\n",
      "A\n"
     ],
     "language": "python",
     "metadata": {},
     "outputs": [
      {
       "latex": [
        "$$\\left[\\begin{matrix}- a + 1 & 0 & 0\\\\0 & 1 & a\\\\0 & a & 2\\end{matrix}\\right]$$"
       ],
       "metadata": {},
       "output_type": "pyout",
       "prompt_number": 6,
       "text": [
        "\u23a1-a + 1  0  0\u23a4\n",
        "\u23a2            \u23a5\n",
        "\u23a2  0     1  a\u23a5\n",
        "\u23a2            \u23a5\n",
        "\u23a3  0     a  2\u23a6"
       ]
      }
     ],
     "prompt_number": 6
    },
    {
     "cell_type": "markdown",
     "metadata": {},
     "source": [
      "(b) Find the eigenvalues of H and store them in a list."
     ]
    },
    {
     "cell_type": "code",
     "collapsed": false,
     "input": [
      "\n",
      "l = A.eigenvals()\n",
      "display(l)\n"
     ],
     "language": "python",
     "metadata": {},
     "outputs": [
      {
       "latex": [
        "$$\\begin{Bmatrix}- a + 1 : 1, & - \\frac{1}{2} \\sqrt{4 a^{2} + 1} + \\frac{3}{2} : 1, & \\frac{1}{2} \\sqrt{4 a^{2} + 1} + \\frac{3}{2} : 1\\end{Bmatrix}$$"
       ],
       "metadata": {},
       "output_type": "display_data",
       "text": [
        "\u23a7                __________            __________       \u23ab\n",
        "\u23aa               \u2571    2                \u2571    2            \u23aa\n",
        "\u23a8             \u2572\u2571  4\u22c5a  + 1    3     \u2572\u2571  4\u22c5a  + 1    3   \u23ac\n",
        "\u23aa-a + 1: 1, - \u2500\u2500\u2500\u2500\u2500\u2500\u2500\u2500\u2500\u2500\u2500\u2500\u2500 + \u2500: 1, \u2500\u2500\u2500\u2500\u2500\u2500\u2500\u2500\u2500\u2500\u2500\u2500\u2500 + \u2500: 1\u23aa\n",
        "\u23a9                   2         2           2         2   \u23ad"
       ]
      }
     ],
     "prompt_number": 7
    },
    {
     "cell_type": "markdown",
     "metadata": {},
     "source": [
      "\n",
      "\n",
      "(c) Write a Python function with the signature shown below. This function should return two NumPy arrays, which, when passed to the matplotlib.pyplot.plot function will plot the expression as a function of the symbol over some range.\n",
      "\n",
      "def expr_to_data(expr, lim, n=100):\n",
      "    \"\"\"Evaluate an expression numerically over a range.\n",
      "    \n",
      "    Parameters\n",
      "    ----------\n",
      "    expr : Expr\n",
      "        A SymPy expression containing one free symbol, call it f(x).\n",
      "    lim : (x, xmin, xmax)\n",
      "        A 3-tuple of the symbol to use as the x variable and its xmin and\n",
      "        xmax values for numerical evaluation. In your function you can call\n",
      "        these \"x\", but the user will be able to pass any symbol.\n",
      "    n : int\n",
      "        The number of points to use in evaluating the expression between\n",
      "        xmin and xmax.\n",
      "    \n",
      "    Returns\n",
      "    -------\n",
      "    A 2-tuple of NumPy arrays (x, f(x)), which, when passed to\n",
      "    matplotlib's plot function will plot the expression as a function of the\n",
      "    symbol.\n",
      "    \"\"\"\n",
      "\n",
      "Use SymPy's lambdify function with modules='numpy' to build a function that can be used to evaluate the expression numerically. You will also have to perform the following logic on xmin and xmax:\n",
      "\n",
      "    First convert to a SymPy object using sympify.\n",
      "    Then produce a numerical value using N/evalf.\n",
      "    Finally convert to a Python float using float.\n",
      "\n",
      "When working with SymPy and regular Python numbers at the same time, it is important to keep track of what types you have. You can always show the type using Python's type function.\n"
     ]
    },
    {
     "cell_type": "code",
     "collapsed": false,
     "input": [
      "\n",
      "def expr_to_data(expr, lim, n=100):\n",
      "    \"\"\"Evaluate an expression numerically over a range.\n",
      "    Parameters\n",
      "    ----------\n",
      "    expr : Expr\n",
      "        A SymPy expression containing one free symbol, call it f(x).\n",
      "    lim : (x, xmin, xmax)\n",
      "        A 3-tuple of the symbol to use as the x variable and its xmin and\n",
      "        xmax values for numerical evaluation. In your function you can call\n",
      "        these \"x\", but the user will be able to pass any symbol.\n",
      "    n : int\n",
      "        The number of points to use in evaluating the expression between\n",
      "        xmin and xmax.\n",
      "    \n",
      "    Returns\n",
      "    -------\n",
      "    A 2-tuple of NumPy arrays (x, f(x)), which, when passed to\n",
      "    matplotlib's plot function will plot the expression as a function of the\n",
      "    symbol.\n",
      "    \"\"\"\n",
      "    x,xmin,xmax = lim\n",
      "    sympify(xmin)\n",
      "    sympify(xmax)\n",
      "    Flxmin = float(N(expr.subs(x, xmin)))\n",
      "    Flxmax = float(N(expr.subs(x, xmax)))\n",
      "    \n",
      "    f = lambdify([x], expr, modules='numpy')\n",
      "    \n",
      "    x = np.linspace(Flxmin, Flxmax, n)\n",
      "    y = f(x)\n",
      "    return x,y\n",
      "\n"
     ],
     "language": "python",
     "metadata": {},
     "outputs": [],
     "prompt_number": 8
    },
    {
     "cell_type": "markdown",
     "metadata": {},
     "source": [
      "(d) Use your expr_to_data function to generate data that can be used to plot the above eigenvalues as functions of the parameter a over the range [0,1]. The plots of all three eigenvalues should appear on the same plot."
     ]
    },
    {
     "cell_type": "code",
     "collapsed": false,
     "input": [
      "p = Symbol('p')\n",
      "assert len(expr_to_data(p, (p,0,1), n=10)) == 2\n",
      "assert len(expr_to_data(p, (p,0,1), n=10)[0]) == 10 and len(expr_to_data(p, (p,0,1), n=10)[1]) == 10\n",
      "assert np.all(expr_to_data(p, (p,0,1), n=10)[1] == np.linspace(0,1,10))\n",
      "assert np.all(expr_to_data(p**2, (p,0,1), n=10)[1] == np.linspace(0,1,10)**2)\n",
      "\n",
      "a = Symbol('a')\n",
      "expr1 = -a+1\n",
      "x,y = expr_to_data(expr1, (a,0,1))\n",
      "plt.plot(x,y,label = '-a+1' )\n",
      "\n",
      "expr2 = -(.5)*sqrt(4*(a**2)+1)\n",
      "x2,y2 = expr_to_data(expr2, (a,0,1))\n",
      "plt.plot(x2,y2,label='-(.5)*sqrt(4*(a**2)+1)')\n",
      "\n",
      "expr3 = (.5)*sqrt(4*(a**2)+1)\n",
      "x3,y3 = expr_to_data(expr3, (a,0,1))\n",
      "\n",
      "plt.plot(x3,y3,label='(.5)*sqrt(4*(a**2)+1)')\n",
      "\n",
      "plt.legend(loc=\"best\")\n",
      "plt.xlabel(\"X\")\n",
      "plt.ylabel(\"Y\")"
     ],
     "language": "python",
     "metadata": {},
     "outputs": [
      {
       "metadata": {},
       "output_type": "pyout",
       "prompt_number": 9,
       "text": [
        "<matplotlib.text.Text at 0x31664d0>"
       ]
      },
      {
       "metadata": {},
       "output_type": "display_data",
       "png": "[encoded data removed]",
       "text": [
        "<matplotlib.figure.Figure at 0x315bd50>"
       ]
      }
     ],
     "prompt_number": 9
    }
   ],
   "metadata": {}
  }
 ]
}