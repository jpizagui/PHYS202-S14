{
 "metadata": {
  "name": "",
  "signature": "sha256:8ab9871f5db99302e8831921ab14bd6b8082eaaf6b18756d93612680b251e51e"
 },
 "nbformat": 3,
 "nbformat_minor": 0,
 "worksheets": [
  {
   "cells": [
    {
     "cell_type": "heading",
     "level": 1,
     "metadata": {},
     "source": [
      "OptimizationExercises"
     ]
    },
    {
     "cell_type": "markdown",
     "metadata": {},
     "source": [
      "Question 1\n",
      "(a) Write a function that can compute the weighted linear least squares (WLSQ) best fit line to a set of data. Here is the function template to use:\n",
      "def WeightedLLSqFit(x,y,w):\n",
      "    \"\"\"Take in arrays representing (x,y) values for a set of linearly varying data and an array of weights w.\n",
      "    Perform a weighted linear least squares regression.  Return the resulting slope and intercept\n",
      "    parameters of the best fit line with their uncertainties.\n",
      "\n",
      "    If the weights are all equal to one, the uncertainties on the parameters are calculated using the \n",
      "    non-weighted least squares equations.\"\"\"\n",
      "\n",
      "    #your code goes here...\n",
      "\n",
      "    return slope,slerr,intercept,interr\n",
      "Your function should test whether there are unequal weights on the data points and return the correctly calculated uncertainties for whichever case is requested.\n",
      "Use the features of numpy arrays rather than loops to take advantage of their superior computational speed."
     ]
    },
    {
     "cell_type": "code",
     "collapsed": false,
     "input": [
      "%pylab inline\n",
      "import numpy as np\n",
      "import matplotlib.pyplot as plot"
     ],
     "language": "python",
     "metadata": {},
     "outputs": [
      {
       "output_type": "stream",
       "stream": "stdout",
       "text": [
        "Populating the interactive namespace from numpy and matplotlib\n"
       ]
      }
     ],
     "prompt_number": 6
    },
    {
     "cell_type": "code",
     "collapsed": false,
     "input": [
      "def WeightedLLSqFit(x,y,w): \n",
      "\n",
      "    \"\"\"Take in arrays representing (x,y) values for a set of linearly varying data and an array\n",
      "    of weights w. Perform a weighted linear least squares regression. Return the resulting slope\n",
      "    and intercept parameters of the best fit line with their uncertainties.\n",
      "    If the weights are all equal to one, the uncertainties on the parameters are calculated using the \n",
      "    non-weighted least squares equations.\"\"\"\n",
      "    isWeighted = False\n",
      "    for i in w:\n",
      "        if i != 1:\n",
      "            isWeighted = True\n",
      "            \n",
      "    if isWeighted == True:\n",
      "        \n",
      "        slope = (w.sum()*(w*x*y).sum()-(w*x).sum()*(w*y).sum())/float((w).sum()*(w*(x**2)).sum()-((w*x).sum())**2)\n",
      "        intercept = ((w*(x**2)).sum()*(w*y).sum()-(w*x).sum()*(w*x*y).sum())/(w.sum()*(w*(x**2)).sum()-((w*x).sum())**2)\n",
      "        slerr=(w.sum())/((w.sum()*(w*(x**2).sum()-((w*x).sum())**2))**(-1/float(2)))\n",
      "        interr = ((w*x**2).sum()/(w.sum()*(w*x**2).sum()-((w*x).sum())**2))**(-1/float(2))\n",
      "    \n",
      "    else:\n",
      "        xave = x.mean()\n",
      "        yave = y.mean()\n",
      "        x2ave = (x*x).mean()\n",
      "        xyave = (x*y).mean()\n",
      "        denom = (x2ave - xave**2)\n",
      "        slope = (xyave - xave*yave)/denom\n",
      "        intercept = (x2ave*yave - xave*xyave)/denom\n",
      "        delta = y - (m*x + b)\n",
      "        d2ave = (delta*delta).mean()\n",
      "        n = len(y)\n",
      "        slerr = sqrt((n-2)**(-1)*d2ave/denom)\n",
      "        interr = sqrt((n-2)**(-1)*d2ave*x2ave/denom)\n",
      "\n",
      "\n",
      "\n",
      "    return slope,slerr,intercept,interr\n"
     ],
     "language": "python",
     "metadata": {},
     "outputs": [],
     "prompt_number": 33
    },
    {
     "cell_type": "markdown",
     "metadata": {},
     "source": [
      "\n",
      "\n",
      "(b) For the data below, use the uncertainties on the position values as weights to perform a WLSQ best fit. Print the results of the fit, both the fitted parameter values and their uncertainties.\n",
      "\n",
      "   time = np.array([1.,2.,3.,4.,5.,6.,7.,8.,9.,10.])\n",
      "   pos = np.array([7.75, 7.33, 6.89, 6.45, 5.96, 5.55, 5.10, 4.49, 3.93, 3.58])\n",
      "   sigp = np.array([0.02, 0.03, 0.03, 0.04, 0.05, 0.06, 0.08, 0.11, 0.14, 0.17])\n",
      "\n",
      "If you did it right you should get m = -0.4510 \u00b1 0.0066 and b = 8.2201 \u00b1 0.0214.\n"
     ]
    },
    {
     "cell_type": "code",
     "collapsed": false,
     "input": [
      "time = np.array([1.,2.,3.,4.,5.,6.,7.,8.,9.,10.])\n",
      "pos = np.array([7.75, 7.33, 6.89, 6.45, 5.96, 5.55, 5.10, 4.49, 3.93, 3.58])\n",
      "sigp = np.array([0.02, 0.03, 0.03, 0.04, 0.05, 0.06, 0.08, 0.11, 0.14, 0.17])\n",
      "\n",
      "slope,slerr,intercept,interr = WeightedLLSqFit(time,pos,sigp)\n",
      "print slope,slerr,intercept,interr\n"
     ],
     "language": "python",
     "metadata": {},
     "outputs": [
      {
       "output_type": "stream",
       "stream": "stdout",
       "text": [
        "-0.479358159337 [        nan         nan         nan         nan         nan         nan\n",
        "  0.94269318  2.3198743   3.14244541  3.79052892] 8.34393502858 0.279935354251\n"
       ]
      }
     ],
     "prompt_number": 35
    },
    {
     "cell_type": "code",
     "collapsed": false,
     "input": [],
     "language": "python",
     "metadata": {},
     "outputs": [],
     "prompt_number": 34
    },
    {
     "cell_type": "code",
     "collapsed": false,
     "input": [],
     "language": "python",
     "metadata": {},
     "outputs": []
    }
   ],
   "metadata": {}
  }
 ]
}