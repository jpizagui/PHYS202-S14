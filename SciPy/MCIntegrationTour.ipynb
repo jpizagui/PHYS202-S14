{
 "metadata": {
  "name": "",
  "signature": "sha256:6eba657e3d405f0903e8ce698ab2fd603dd5857c7e7b9b181f28903e7e99b913"
 },
 "nbformat": 3,
 "nbformat_minor": 0,
 "worksheets": [
  {
   "cells": [
    {
     "cell_type": "code",
     "collapsed": false,
     "input": [
      "%pylab inline\n",
      "import numpy as np\n",
      "import matplotlib.pyplot as plt"
     ],
     "language": "python",
     "metadata": {},
     "outputs": [
      {
       "output_type": "stream",
       "stream": "stdout",
       "text": [
        "Populating the interactive namespace from numpy and matplotlib\n"
       ]
      }
     ],
     "prompt_number": 1
    },
    {
     "cell_type": "code",
     "collapsed": false,
     "input": [
      "\n",
      "\n",
      "l = w = 4.\n",
      "r = 1.375\n",
      "Nin = 15 \n",
      "N = 40\n",
      "Aboard = l*w\n",
      "Aexact = pi*r**2\n",
      "Acirc = (Nin/float(N))*Aboard #since we calc a ratio, make sure they are floats!\n",
      "print \"Aboard =\",Aboard\n",
      "print \"Aexact =\",Aexact\n",
      "print \"Acirc  =\",Acirc\n",
      "print \"Error  =\",(100.*(Acirc-Aexact)/Aexact),\"%\"\n",
      "\n"
     ],
     "language": "python",
     "metadata": {},
     "outputs": [
      {
       "output_type": "stream",
       "stream": "stdout",
       "text": [
        "Aboard = 16.0\n",
        "Aexact = 5.93957361069\n",
        "Acirc  = 6.0\n",
        "Error  = 1.01735230957 %\n"
       ]
      }
     ],
     "prompt_number": 2
    },
    {
     "cell_type": "code",
     "collapsed": false,
     "input": [
      "f = lambda x: x**(0.5) + np.sin(x)"
     ],
     "language": "python",
     "metadata": {},
     "outputs": [],
     "prompt_number": 3
    },
    {
     "cell_type": "code",
     "collapsed": false,
     "input": [],
     "language": "python",
     "metadata": {},
     "outputs": []
    }
   ],
   "metadata": {}
  }
 ]
}