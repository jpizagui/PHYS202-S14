{
 "metadata": {
  "name": "",
  "signature": "sha256:572be58e8aed1c4e7adb03db876fa45bee5e928c13bf7082dea2c074ff9854b1"
 },
 "nbformat": 3,
 "nbformat_minor": 0,
 "worksheets": []
}