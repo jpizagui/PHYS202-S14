{
 "metadata": {
  "name": "",
  "signature": "sha256:446cb8d0be3f5ac023f1d6e41d8801944c09e508a021ff2f94507074958f5768"
 },
 "nbformat": 3,
 "nbformat_minor": 0,
 "worksheets": [
  {
   "cells": [
    {
     "cell_type": "markdown",
     "metadata": {},
     "source": [
      "Driver: Joseph Izaguirre\n",
      "Navigator: Ed Izaguirre"
     ]
    },
    {
     "cell_type": "heading",
     "level": 1,
     "metadata": {},
     "source": [
      "Error Handling Exercises"
     ]
    },
    {
     "cell_type": "code",
     "collapsed": false,
     "input": [
      " %pylab inline\n",
      "from random import randint\n",
      "from ipythonblocks import BlockGrid\n",
      "from IPython.display import clear_output"
     ],
     "language": "python",
     "metadata": {},
     "outputs": [
      {
       "output_type": "stream",
       "stream": "stdout",
       "text": [
        "Populating the interactive namespace from numpy and matplotlib\n"
       ]
      }
     ],
     "prompt_number": 1
    },
    {
     "cell_type": "code",
     "collapsed": false,
     "input": [
      "# adding code "
     ],
     "language": "python",
     "metadata": {},
     "outputs": [],
     "prompt_number": 2
    },
    {
     "cell_type": "code",
     "collapsed": false,
     "input": [
      "def place_ship(boardsize):\n",
      "    '''\n",
      "    Place a ship randomly on the board\n",
      "    of size boardsize x boardsize.  \n",
      "    Randomly decide whether it is vertical\n",
      "    or horizontal, what length ship, the \n",
      "    placement of the first block, and check\n",
      "    that it will fit on the board.  If not,\n",
      "    adjust the placement.\n",
      "    '''\n",
      "    #Select vertical or horizontal ship\n",
      "    shipdir = randint(0,1)\n",
      "    #random ship length\n",
      "    shiplength = randint(1,boardsize-2)\n",
      "    shipstart = randint(0,boardsize-1)\n",
      "    shipend = shipstart - 1 + shiplength\n",
      "    shipdiff = boardsize - 1 - shipend\n",
      "    if shipdiff < 0:\n",
      "        shipstart += shipdiff\n",
      "        shipend += shipdiff\n",
      "    #print shipdir, shiplength, shipstart, shipend, shipdiff\n",
      "    shipside = randint(0,boardsize-1)\n",
      "    ship = []\n",
      "    if randint(0,1) == 1:\n",
      "        for i in range(shiplength):\n",
      "            ship.append((shipstart+i,shipside))\n",
      "    else:\n",
      "        for i in range(shiplength):\n",
      "            ship.append((shipside,shipstart+i))\n",
      "    return ship\n",
      "\n",
      "BLACK = (0,0,0)\n",
      "RED = (255,0,0)\n",
      "ORANGE = (255,150,0)\n",
      "OCEAN = (13, 123, 234)"
     ],
     "language": "python",
     "metadata": {},
     "outputs": [],
     "prompt_number": 3
    },
    {
     "cell_type": "code",
     "collapsed": false,
     "input": [],
     "language": "python",
     "metadata": {},
     "outputs": [],
     "prompt_number": 3
    },
    {
     "cell_type": "code",
     "collapsed": false,
     "input": [],
     "language": "python",
     "metadata": {},
     "outputs": [],
     "prompt_number": 3
    },
    {
     "cell_type": "code",
     "collapsed": false,
     "input": [],
     "language": "python",
     "metadata": {},
     "outputs": []
    },
    {
     "cell_type": "code",
     "collapsed": false,
     "input": [
      "print \"Let's play Battleship!\"\n",
      "\n",
      "try:\n",
      "    boardsize = input(\"How big should the ocean be? (Enter an integer from 4 to 20)\")\n",
      "\n",
      "except TypeError and NameError:\n",
      "    print \"Wrong Type.\"\n",
      "    print \"Defaulting to 4\"\n",
      "    boardsize = 4\n",
      "\n",
      "try:\n",
      "    nturns = input(\"How many shots would you like?\")\n",
      "\n",
      "except TypeError and NameError:\n",
      "    print \"Wrong Type\"\n",
      "    print \"Defaulting to 3\"\n",
      "    nturns = 3\n",
      "\n",
      "\n",
      "board = BlockGrid(boardsize, boardsize, fill=OCEAN)\n",
      "board.show()\n",
      "\n",
      "ship = place_ship(boardsize)\n",
      "nhits = 0\n",
      "\n",
      "for turn in range(nturns+1):\n",
      "    #print ship\n",
      "    try:\n",
      "        \n",
      "        guess_row = input(\"Guess Row:\")\n",
      "        guess_col = input(\"Guess Col:\")\n",
      "        \n",
      "    except TypeError and NameError:\n",
      "        print \"Wrong type\"\n",
      "        continue\n",
      "    \n",
      "    if (guess_row < 0 or guess_row >= board.height) or (guess_col < 0 or guess_col >= board.width):\n",
      "        clear_output()\n",
      "        board.show()\n",
      "        print \"Oops, that's not even in the ocean.\"\n",
      "    else:\n",
      "        guessblock = board[guess_row,guess_col]\n",
      "        if (guess_row,guess_col) in ship:\n",
      "            clear_output()\n",
      "            board[guess_row,guess_col] = RED\n",
      "            board.show()\n",
      "            print \"It's a hit!\"\n",
      "            nhits += 1          \n",
      "        elif (guessblock.red,guessblock.green,guessblock.blue) == BLACK or (guessblock.red,guessblock.green,guessblock.blue) == RED:\n",
      "            clear_output()\n",
      "            board.show()\n",
      "            print \"You guessed that one already.\"\n",
      "        else:\n",
      "            clear_output()\n",
      "            board[guess_row,guess_col] = BLACK\n",
      "            board.show()\n",
      "            print \"You missed my battleship!\"        \n",
      "\n",
      "    if nhits == len(ship):\n",
      "        clear_output()\n",
      "        board[guess_row,guess_col] = RED\n",
      "        board.show()\n",
      "        print \"Congratulations! You sunk my battleship!\"\n",
      "        break\n",
      "\n",
      "    if turn == nturns-1:\n",
      "        clear_output()\n",
      "        #Reveal location of ship in yellow\n",
      "        for block in ship:\n",
      "            current = board[block[0],block[1]]\n",
      "            if (current.red,current.green,current.blue) == RED:\n",
      "                pass\n",
      "            else:\n",
      "                board[block[0],block[1]] = ORANGE\n",
      "        board.show()\n",
      "        print \"Sorry, you are out of turns.  Game Over.\"\n",
      "    else:\n",
      "        print turn+1"
     ],
     "language": "python",
     "metadata": {},
     "outputs": [
      {
       "output_type": "stream",
       "stream": "stdout",
       "text": [
        "Let's play Battleship!\n"
       ]
      },
      {
       "name": "stdout",
       "output_type": "stream",
       "stream": "stdout",
       "text": [
        "How big should the ocean be? (Enter an integer from 4 to 20)a\n"
       ]
      },
      {
       "output_type": "stream",
       "stream": "stdout",
       "text": [
        "Wrong Type.\n",
        "Defaulting to 4\n"
       ]
      },
      {
       "name": "stdout",
       "output_type": "stream",
       "stream": "stdout",
       "text": [
        "How many shots would you like?a\n"
       ]
      },
      {
       "output_type": "stream",
       "stream": "stdout",
       "text": [
        "Wrong Type\n",
        "Defaulting to 3\n"
       ]
      },
      {
       "html": [
        "<style type=\"text/css\">table.blockgrid {border: none;} .blockgrid tr {border: none;} .blockgrid td {padding: 0px;} #blocks17ddb320-f8da-487e-bd87-a4528362c854 td {border: 1px solid white;}</style><table id=\"blocks17ddb320-f8da-487e-bd87-a4528362c854\" class=\"blockgrid\"><tbody><tr><td title=\"Index: [0, 0]&#10;Color: (13, 123, 234)\" style=\"width: 20px; height: 20px;background-color: rgb(13, 123, 234);\"></td><td title=\"Index: [0, 1]&#10;Color: (13, 123, 234)\" style=\"width: 20px; height: 20px;background-color: rgb(13, 123, 234);\"></td><td title=\"Index: [0, 2]&#10;Color: (13, 123, 234)\" style=\"width: 20px; height: 20px;background-color: rgb(13, 123, 234);\"></td><td title=\"Index: [0, 3]&#10;Color: (13, 123, 234)\" style=\"width: 20px; height: 20px;background-color: rgb(13, 123, 234);\"></td></tr><tr><td title=\"Index: [1, 0]&#10;Color: (13, 123, 234)\" style=\"width: 20px; height: 20px;background-color: rgb(13, 123, 234);\"></td><td title=\"Index: [1, 1]&#10;Color: (13, 123, 234)\" style=\"width: 20px; height: 20px;background-color: rgb(13, 123, 234);\"></td><td title=\"Index: [1, 2]&#10;Color: (13, 123, 234)\" style=\"width: 20px; height: 20px;background-color: rgb(13, 123, 234);\"></td><td title=\"Index: [1, 3]&#10;Color: (13, 123, 234)\" style=\"width: 20px; height: 20px;background-color: rgb(13, 123, 234);\"></td></tr><tr><td title=\"Index: [2, 0]&#10;Color: (13, 123, 234)\" style=\"width: 20px; height: 20px;background-color: rgb(13, 123, 234);\"></td><td title=\"Index: [2, 1]&#10;Color: (13, 123, 234)\" style=\"width: 20px; height: 20px;background-color: rgb(13, 123, 234);\"></td><td title=\"Index: [2, 2]&#10;Color: (13, 123, 234)\" style=\"width: 20px; height: 20px;background-color: rgb(13, 123, 234);\"></td><td title=\"Index: [2, 3]&#10;Color: (13, 123, 234)\" style=\"width: 20px; height: 20px;background-color: rgb(13, 123, 234);\"></td></tr><tr><td title=\"Index: [3, 0]&#10;Color: (13, 123, 234)\" style=\"width: 20px; height: 20px;background-color: rgb(13, 123, 234);\"></td><td title=\"Index: [3, 1]&#10;Color: (13, 123, 234)\" style=\"width: 20px; height: 20px;background-color: rgb(13, 123, 234);\"></td><td title=\"Index: [3, 2]&#10;Color: (13, 123, 234)\" style=\"width: 20px; height: 20px;background-color: rgb(13, 123, 234);\"></td><td title=\"Index: [3, 3]&#10;Color: (13, 123, 234)\" style=\"width: 20px; height: 20px;background-color: rgb(13, 123, 234);\"></td></tr></tbody></table>"
       ],
       "metadata": {},
       "output_type": "display_data",
       "text": [
        "<IPython.core.display.HTML at 0x22aab90>"
       ]
      },
      {
       "name": "stdout",
       "output_type": "stream",
       "stream": "stdout",
       "text": [
        "Guess Row:a\n"
       ]
      },
      {
       "output_type": "stream",
       "stream": "stdout",
       "text": [
        "Wrong type\n"
       ]
      },
      {
       "name": "stdout",
       "output_type": "stream",
       "stream": "stdout",
       "text": [
        "Guess Row:a\n"
       ]
      },
      {
       "output_type": "stream",
       "stream": "stdout",
       "text": [
        "Wrong type\n"
       ]
      },
      {
       "name": "stdout",
       "output_type": "stream",
       "stream": "stdout",
       "text": [
        "Guess Row:a\n"
       ]
      },
      {
       "output_type": "stream",
       "stream": "stdout",
       "text": [
        "Wrong type\n"
       ]
      },
      {
       "name": "stdout",
       "output_type": "stream",
       "stream": "stdout",
       "text": [
        "Guess Row:a\n"
       ]
      },
      {
       "output_type": "stream",
       "stream": "stdout",
       "text": [
        "Wrong type\n"
       ]
      }
     ],
     "prompt_number": 4
    },
    {
     "cell_type": "code",
     "collapsed": false,
     "input": [
      "def read_all_from_file(filename,safe=False):\n",
      "    try:\n",
      "        f = open(filename)\n",
      "    except IOError:\n",
      "            if safe==False:\n",
      "                print \"Wrong filetype.\"\n",
      "                return None\n",
      "            else:\n",
      "                print \"Does not exist. Returning empty string.\"\n",
      "                return \" \"\n",
      "    contents = f.read()\n",
      "    f.close()\n",
      "    return contents"
     ],
     "language": "python",
     "metadata": {},
     "outputs": [],
     "prompt_number": 4
    },
    {
     "cell_type": "code",
     "collapsed": false,
     "input": [
      "read_all_from_file('tmp.txt')"
     ],
     "language": "python",
     "metadata": {},
     "outputs": [
      {
       "metadata": {},
       "output_type": "pyout",
       "prompt_number": 5,
       "text": [
        "'this is the contents of the file'"
       ]
      }
     ],
     "prompt_number": 5
    },
    {
     "cell_type": "code",
     "collapsed": false,
     "input": [
      "read_all_from_file('file.which.does.not.exist')"
     ],
     "language": "python",
     "metadata": {},
     "outputs": [
      {
       "output_type": "stream",
       "stream": "stdout",
       "text": [
        "Wrong filetype.\n"
       ]
      }
     ],
     "prompt_number": 6
    },
    {
     "cell_type": "code",
     "collapsed": false,
     "input": [
      "read_all_from_file('file.which.does.not.exist', safe=True)"
     ],
     "language": "python",
     "metadata": {},
     "outputs": [
      {
       "output_type": "stream",
       "stream": "stdout",
       "text": [
        "Does not exist. Returning empty string.\n"
       ]
      },
      {
       "metadata": {},
       "output_type": "pyout",
       "prompt_number": 9,
       "text": [
        "' '"
       ]
      }
     ],
     "prompt_number": 9
    },
    {
     "cell_type": "code",
     "collapsed": false,
     "input": [],
     "language": "python",
     "metadata": {},
     "outputs": []
    }
   ],
   "metadata": {}
  }
 ]
}