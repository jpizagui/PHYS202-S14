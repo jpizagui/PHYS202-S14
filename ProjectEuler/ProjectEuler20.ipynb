{
 "metadata": {
  "name": "",
  "signature": "sha256:8894624f71b3a89f31a645a5c90a445ef2c26b07624f63084366641b76459000"
 },
 "nbformat": 3,
 "nbformat_minor": 0,
 "worksheets": [
  {
   "cells": [
    {
     "cell_type": "heading",
     "level": 1,
     "metadata": {},
     "source": [
      "Problem 20"
     ]
    },
    {
     "cell_type": "markdown",
     "metadata": {},
     "source": [
      "n! means n \u00d7 (n \u2212 1) \u00d7 ... \u00d7 3 \u00d7 2 \u00d7 1\n",
      "\n",
      "For example, 10! = 10 \u00d7 9 \u00d7 ... \u00d7 3 \u00d7 2 \u00d7 1 = 3628800,\n",
      "and the sum of the digits in the number 10! is 3 + 6 + 2 + 8 + 8 + 0 + 0 = 27.\n",
      "\n",
      "Find the sum of the digits in the number 100!"
     ]
    },
    {
     "cell_type": "code",
     "collapsed": false,
     "input": [
      "#Driver: Joseph Izaguirre\n",
      "#Navigator: Ed Izaguirre\n",
      "def sumnum(num):\n",
      "    total = 0\n",
      "    while(num >0):\n",
      "        total += num%10\n",
      "        num = num/10\n",
      "    return total\n",
      "\n",
      "def factorial(num):\n",
      "    total = 1\n",
      "    while num > 1:\n",
      "        total *= num\n",
      "        num -= 1\n",
      "    return total"
     ],
     "language": "python",
     "metadata": {},
     "outputs": [],
     "prompt_number": 15
    },
    {
     "cell_type": "code",
     "collapsed": false,
     "input": [
      "print \"Sum of the Digits of Factorial of 10:\", sumnum(factorial(10))"
     ],
     "language": "python",
     "metadata": {},
     "outputs": [
      {
       "output_type": "stream",
       "stream": "stdout",
       "text": [
        "Sum of the Digits of Factorial of 10: 27\n"
       ]
      }
     ],
     "prompt_number": 16
    },
    {
     "cell_type": "code",
     "collapsed": false,
     "input": [
      "print \"Sum of the Digits of Factorial of 100:\", sumnum(factorial(100))"
     ],
     "language": "python",
     "metadata": {},
     "outputs": [
      {
       "output_type": "stream",
       "stream": "stdout",
       "text": [
        "Sum of the Digits of Factorial of 100: 648\n"
       ]
      }
     ],
     "prompt_number": 17
    },
    {
     "cell_type": "code",
     "collapsed": false,
     "input": [],
     "language": "python",
     "metadata": {},
     "outputs": []
    },
    {
     "cell_type": "markdown",
     "metadata": {},
     "source": []
    }
   ],
   "metadata": {}
  }
 ]
}