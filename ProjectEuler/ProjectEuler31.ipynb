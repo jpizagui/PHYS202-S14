{
 "metadata": {
  "name": "",
  "signature": "sha256:73aa80ddf585a10011ffdfc032baf72784d59ae9346b60cc6587f0f7dd87065f"
 },
 "nbformat": 3,
 "nbformat_minor": 0,
 "worksheets": [
  {
   "cells": [
    {
     "cell_type": "code",
     "collapsed": false,
     "input": [
      "#List of Denomination, attempted a recursive algorithm that begins at the largest denomination, and counts how many time\n",
      "#you could make up 200\n",
      "DNations = [200, 100, 50, 10 , 5, 2, 1]\n",
      "\n",
      "def coinsum(denominations, total, numcomb=0):\n",
      "    print \"DNations are : \" + str(denominations) + \"\\nNumcomb is : \" + str(numcomb)\n",
      "    print \"Total is: \" + str(total)+\"\\n\"\n",
      "    if(len(denominations)==1):\n",
      "        return numcomb+1\n",
      "    else:\n",
      "        if (total - denominations[0]) == 0:\n",
      "            numcomb+=1\n",
      "            return numcomb + coinsum(denominations[1:], total-denominations[1], numcomb)\n",
      "        else:\n",
      "            return numcomb + coinsum(denominations[1:], total-denominations[0],numcomb)\n",
      "\n",
      "\n",
      "print coinsum(DNations, 200)"
     ],
     "language": "python",
     "metadata": {},
     "outputs": [
      {
       "output_type": "stream",
       "stream": "stdout",
       "text": [
        "DNations are : [200, 100, 50, 10, 5, 2, 1]\n",
        "Numcomb is : 0\n",
        "Total is: 200\n",
        "\n",
        "DNations are : [100, 50, 10, 5, 2, 1]\n",
        "Numcomb is : 1\n",
        "Total is: 100\n",
        "\n",
        "DNations are : [50, 10, 5, 2, 1]\n",
        "Numcomb is : 2\n",
        "Total is: 50\n",
        "\n",
        "DNations are : [10, 5, 2, 1]\n",
        "Numcomb is : 3\n",
        "Total is: 40\n",
        "\n",
        "DNations are : [5, 2, 1]\n",
        "Numcomb is : 3\n",
        "Total is: 30\n",
        "\n",
        "DNations are : [2, 1]\n",
        "Numcomb is : 3\n",
        "Total is: 25\n",
        "\n",
        "DNations are : [1]\n",
        "Numcomb is : 3\n",
        "Total is: 23\n",
        "\n",
        "19\n"
       ]
      }
     ],
     "prompt_number": 1
    },
    {
     "cell_type": "code",
     "collapsed": false,
     "input": [],
     "language": "python",
     "metadata": {},
     "outputs": []
    }
   ],
   "metadata": {}
  }
 ]
}