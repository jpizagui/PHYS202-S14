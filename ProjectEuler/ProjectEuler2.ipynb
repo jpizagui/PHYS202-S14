{
 "metadata": {
  "name": "",
  "signature": "sha256:c84cb87740f3f8beb5c94798de72ba2f9c870ba3684ec3289161ace3a5b077e7"
 },
 "nbformat": 3,
 "nbformat_minor": 0,
 "worksheets": [
  {
   "cells": [
    {
     "cell_type": "heading",
     "level": 1,
     "metadata": {},
     "source": [
      "Even Fibonacci Numbers"
     ]
    },
    {
     "cell_type": "heading",
     "level": 3,
     "metadata": {},
     "source": [
      "Problem 2"
     ]
    },
    {
     "cell_type": "markdown",
     "metadata": {},
     "source": [
      "Driver: Devin Weiker\n",
      "Navigator: Joseph Izaguirre"
     ]
    },
    {
     "cell_type": "code",
     "collapsed": false,
     "input": [
      "num1 = 1\n",
      "num2 = 2\n",
      "total = 0\n",
      "Fib = [num1,num2]\n",
      "while (num2 < 4000000):\n",
      "    nextnum = num1+num2\n",
      "    Fib.append(nextnum)\n",
      "    num1 = num2\n",
      "    num2 = nextnum\n",
      "    \n",
      "Fib.pop(len(Fib)-1)\n",
      "    \n",
      "print Fib\n",
      "\n",
      "for i in Fib:\n",
      "    if (i%2 == 0):\n",
      "        total += i\n",
      "        \n",
      "print total\n",
      "    "
     ],
     "language": "python",
     "metadata": {},
     "outputs": [
      {
       "output_type": "stream",
       "stream": "stdout",
       "text": [
        "[1, 2, 3, 5, 8, 13, 21, 34, 55, 89, 144, 233, 377, 610, 987, 1597, 2584, 4181, 6765, 10946, 17711, 28657, 46368, 75025, 121393, 196418, 317811, 514229, 832040, 1346269, 2178309, 3524578]\n",
        "4613732\n"
       ]
      }
     ],
     "prompt_number": 5
    },
    {
     "cell_type": "code",
     "collapsed": false,
     "input": [],
     "language": "python",
     "metadata": {},
     "outputs": []
    }
   ],
   "metadata": {}
  }
 ]
}