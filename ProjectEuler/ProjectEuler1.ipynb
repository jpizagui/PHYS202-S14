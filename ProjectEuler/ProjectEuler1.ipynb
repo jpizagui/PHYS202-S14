{
 "metadata": {
  "name": "",
  "signature": "sha256:e3ea53bded50b10b580ca6eec6829d0dba312c8ee5d9fbd8fa2bea32bb45f33d"
 },
 "nbformat": 3,
 "nbformat_minor": 0,
 "worksheets": [
  {
   "cells": [
    {
     "cell_type": "heading",
     "level": 1,
     "metadata": {},
     "source": [
      "Multiples of 3 and 5"
     ]
    },
    {
     "cell_type": "heading",
     "level": 3,
     "metadata": {},
     "source": [
      "Problem 1"
     ]
    },
    {
     "cell_type": "markdown",
     "metadata": {},
     "source": [
      "Driver: Joseph Izaguirre\n",
      "Navigator: Devin Wieker"
     ]
    },
    {
     "cell_type": "markdown",
     "metadata": {},
     "source": [
      "If we list all the natural numbers below 10 that are multiples of 3 or 5, we get 3, 5, 6 and 9. The sum of these multiples is 23.\n",
      "\n",
      "Find the sum of all the multiples of 3 or 5 below 1000.\n",
      "    "
     ]
    },
    {
     "cell_type": "code",
     "collapsed": false,
     "input": [
      "def number_sum (maxNum):\n",
      "    total = 0\n",
      "    for i in range(maxNum):\n",
      "        if (i%3 == 0 or i%5 == 0):\n",
      "            total += i\n",
      "    return total\n",
      "\n",
      "print number_sum (1000)\n",
      "    "
     ],
     "language": "python",
     "metadata": {},
     "outputs": [
      {
       "output_type": "stream",
       "stream": "stdout",
       "text": [
        "233168\n"
       ]
      }
     ],
     "prompt_number": 3
    }
   ],
   "metadata": {}
  }
 ]
}