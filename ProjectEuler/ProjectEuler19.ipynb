{
 "metadata": {
  "name": "",
  "signature": "sha256:2ff5577b56d2c49c87dae0a493e7d59acc1b34465167b78614ad23ada553d914"
 },
 "nbformat": 3,
 "nbformat_minor": 0,
 "worksheets": [
  {
   "cells": [
    {
     "cell_type": "code",
     "collapsed": false,
     "input": [
      "monthsInYear = [1,2,3,4,5,6,7,8,9,10,11,12]\n",
      "daysInMonth = [31,28,31,30,31,30,31,31,30,31,30,31]\n",
      "dayOfWeek = 3\n",
      "# 1 = Sunday, 2 = Monday, ...\n",
      "dayOfMonth = 1\n",
      "Sundays = 0\n",
      "\n",
      "for y in range(1901,2001):\n",
      "    if y % 4 == 0:\n",
      "        daysInMonth[1] = 29\n",
      "\n",
      "    for m in monthsInYear:\n",
      "        dayOfMonth = 1\n",
      "        for i in range(1,daysInMonth[m-1]+1):\n",
      "\n",
      "          #  print m\n",
      "         #  print \"Day of Month:\" + str(dayOfMonth)\n",
      "         #   print \"Day Of Week: \" + str(dayOfWeek)\n",
      "\n",
      "            if dayOfWeek == 1 and dayOfMonth == 1:\n",
      "                Sundays += 1\n",
      "\n",
      "            dayOfMonth +=1 \n",
      "            dayOfWeek += 1\n",
      "\n",
      "            if dayOfWeek > 7:\n",
      "                dayOfWeek =1\n",
      "    daysInMonth[1] = 28\n",
      "\n",
      "\n",
      "print \"Number of Sundays between 1901 and 2000: \" +str(Sundays)\n",
      "        \n",
      "    \n",
      "    \n",
      "\n",
      "        "
     ],
     "language": "python",
     "metadata": {},
     "outputs": [
      {
       "output_type": "stream",
       "stream": "stdout",
       "text": [
        "Number of Sundays between 1901 and 2000: 171\n"
       ]
      }
     ],
     "prompt_number": 16
    },
    {
     "cell_type": "code",
     "collapsed": false,
     "input": [],
     "language": "python",
     "metadata": {},
     "outputs": [],
     "prompt_number": 6
    },
    {
     "cell_type": "code",
     "collapsed": false,
     "input": [],
     "language": "python",
     "metadata": {},
     "outputs": []
    }
   ],
   "metadata": {}
  }
 ]
}