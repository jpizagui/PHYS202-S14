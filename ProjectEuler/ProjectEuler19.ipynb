{
 "metadata": {
  "name": "",
  "signature": "sha256:0fc4c9503808ec82d6a7f5aeb5cf57f3e167ca1a9947df5ccdd1cf6188fb3683"
 },
 "nbformat": 3,
 "nbformat_minor": 0,
 "worksheets": [
  {
   "cells": [
    {
     "cell_type": "code",
     "collapsed": false,
     "input": [
      "monthsInYear = [1,2,3,4,5,6,7,8,9,10,11,12]\n",
      "daysInMonth = [31,28,31,30,31,30,31,31,30,31,30,31]\n",
      "dayOfWeek = 3\n",
      "# 1 = Sunday, 2 = Monday, ...\n",
      "dayOfMonth = 1\n",
      "Sundays = 0\n",
      "\n",
      "for m in monthsInYear:\n",
      "    for i in range(1,daysInMonth[m-1]):\n",
      "        \n",
      "        if dayOfWeek == 1 and dayOfMonth == 1:\n",
      "            Sundays += 1\n",
      "    \n",
      "        dayOfMonth +=1 \n",
      "        dayOfWeek += 1\n",
      "    \n",
      "        if dayOfWeek > 7:\n",
      "            dayOfWeek =1\n",
      "        \n",
      "    \n",
      "    \n",
      "\n",
      "        "
     ],
     "language": "python",
     "metadata": {},
     "outputs": []
    }
   ],
   "metadata": {}
  }
 ]
}